{
  "nbformat": 4,
  "nbformat_minor": 0,
  "metadata": {
    "colab": {
      "name": "BreastCancerDetectionAI.ipynb",
      "version": "0.3.2",
      "provenance": [],
      "collapsed_sections": [],
      "include_colab_link": true
    },
    "kernelspec": {
      "name": "python3",
      "display_name": "Python 3"
    },
    "accelerator": "GPU"
  },
  "cells": [
    {
      "cell_type": "markdown",
      "metadata": {
        "id": "view-in-github",
        "colab_type": "text"
      },
      "source": [
        "<a href=\"https://colab.research.google.com/github/fern292/AR-Project-GRA-315/blob/master/BreastCancerDetectionAI.ipynb\" target=\"_parent\"><img src=\"https://colab.research.google.com/assets/colab-badge.svg\" alt=\"Open In Colab\"/></a>"
      ]
    },
    {
      "cell_type": "code",
      "metadata": {
        "id": "LvuXUjESqksS",
        "colab_type": "code",
        "colab": {
          "base_uri": "https://localhost:8080/",
          "height": 408
        },
        "outputId": "62405d20-6524-4b29-f40f-6ebb1edd665f"
      },
      "source": [
        "!pip install tensorflow-gpu"
      ],
      "execution_count": 1,
      "outputs": [
        {
          "output_type": "stream",
          "text": [
            "Collecting tensorflow-gpu\n",
            "\u001b[?25l  Downloading https://files.pythonhosted.org/packages/7b/b1/0ad4ae02e17ddd62109cd54c291e311c4b5fd09b4d0678d3d6ce4159b0f0/tensorflow_gpu-1.13.1-cp36-cp36m-manylinux1_x86_64.whl (345.2MB)\n",
            "\u001b[K     |████████████████████████████████| 345.2MB 57kB/s \n",
            "\u001b[?25hRequirement already satisfied: gast>=0.2.0 in /usr/local/lib/python3.6/dist-packages (from tensorflow-gpu) (0.2.2)\n",
            "Requirement already satisfied: numpy>=1.13.3 in /usr/local/lib/python3.6/dist-packages (from tensorflow-gpu) (1.16.3)\n",
            "Requirement already satisfied: absl-py>=0.1.6 in /usr/local/lib/python3.6/dist-packages (from tensorflow-gpu) (0.7.1)\n",
            "Requirement already satisfied: six>=1.10.0 in /usr/local/lib/python3.6/dist-packages (from tensorflow-gpu) (1.12.0)\n",
            "Requirement already satisfied: astor>=0.6.0 in /usr/local/lib/python3.6/dist-packages (from tensorflow-gpu) (0.7.1)\n",
            "Requirement already satisfied: protobuf>=3.6.1 in /usr/local/lib/python3.6/dist-packages (from tensorflow-gpu) (3.7.1)\n",
            "Requirement already satisfied: grpcio>=1.8.6 in /usr/local/lib/python3.6/dist-packages (from tensorflow-gpu) (1.15.0)\n",
            "Requirement already satisfied: keras-preprocessing>=1.0.5 in /usr/local/lib/python3.6/dist-packages (from tensorflow-gpu) (1.0.9)\n",
            "Requirement already satisfied: wheel>=0.26 in /usr/local/lib/python3.6/dist-packages (from tensorflow-gpu) (0.33.2)\n",
            "Requirement already satisfied: tensorflow-estimator<1.14.0rc0,>=1.13.0 in /usr/local/lib/python3.6/dist-packages (from tensorflow-gpu) (1.13.0)\n",
            "Requirement already satisfied: tensorboard<1.14.0,>=1.13.0 in /usr/local/lib/python3.6/dist-packages (from tensorflow-gpu) (1.13.1)\n",
            "Requirement already satisfied: termcolor>=1.1.0 in /usr/local/lib/python3.6/dist-packages (from tensorflow-gpu) (1.1.0)\n",
            "Requirement already satisfied: keras-applications>=1.0.6 in /usr/local/lib/python3.6/dist-packages (from tensorflow-gpu) (1.0.7)\n",
            "Requirement already satisfied: setuptools in /usr/local/lib/python3.6/dist-packages (from protobuf>=3.6.1->tensorflow-gpu) (41.0.1)\n",
            "Requirement already satisfied: mock>=2.0.0 in /usr/local/lib/python3.6/dist-packages (from tensorflow-estimator<1.14.0rc0,>=1.13.0->tensorflow-gpu) (3.0.5)\n",
            "Requirement already satisfied: werkzeug>=0.11.15 in /usr/local/lib/python3.6/dist-packages (from tensorboard<1.14.0,>=1.13.0->tensorflow-gpu) (0.15.2)\n",
            "Requirement already satisfied: markdown>=2.6.8 in /usr/local/lib/python3.6/dist-packages (from tensorboard<1.14.0,>=1.13.0->tensorflow-gpu) (3.1)\n",
            "Requirement already satisfied: h5py in /usr/local/lib/python3.6/dist-packages (from keras-applications>=1.0.6->tensorflow-gpu) (2.8.0)\n",
            "Installing collected packages: tensorflow-gpu\n",
            "Successfully installed tensorflow-gpu-1.13.1\n"
          ],
          "name": "stdout"
        }
      ]
    },
    {
      "cell_type": "code",
      "metadata": {
        "id": "uEoZb1ftrSUb",
        "colab_type": "code",
        "colab": {
          "base_uri": "https://localhost:8080/",
          "height": 34
        },
        "outputId": "2bd09703-c66c-4ddc-c508-42ebad7ee626"
      },
      "source": [
        "import tensorflow as tf\n",
        "print(tf.__version__)"
      ],
      "execution_count": 2,
      "outputs": [
        {
          "output_type": "stream",
          "text": [
            "1.13.1\n"
          ],
          "name": "stdout"
        }
      ]
    },
    {
      "cell_type": "code",
      "metadata": {
        "id": "tDY-jByrzMeI",
        "colab_type": "code",
        "colab": {
          "base_uri": "https://localhost:8080/",
          "height": 102
        },
        "outputId": "8b90ab47-4a97-414d-b2a0-c02228cd8c81"
      },
      "source": [
        "!pip install pandas"
      ],
      "execution_count": 5,
      "outputs": [
        {
          "output_type": "stream",
          "text": [
            "Requirement already satisfied: pandas in /usr/local/lib/python3.6/dist-packages (0.24.2)\n",
            "Requirement already satisfied: pytz>=2011k in /usr/local/lib/python3.6/dist-packages (from pandas) (2018.9)\n",
            "Requirement already satisfied: numpy>=1.12.0 in /usr/local/lib/python3.6/dist-packages (from pandas) (1.16.3)\n",
            "Requirement already satisfied: python-dateutil>=2.5.0 in /usr/local/lib/python3.6/dist-packages (from pandas) (2.5.3)\n",
            "Requirement already satisfied: six>=1.5 in /usr/local/lib/python3.6/dist-packages (from python-dateutil>=2.5.0->pandas) (1.12.0)\n"
          ],
          "name": "stdout"
        }
      ]
    },
    {
      "cell_type": "markdown",
      "metadata": {
        "id": "eQtJEG82tATX",
        "colab_type": "text"
      },
      "source": [
        "In this first cell we will upload the CSV files that contian the pre-sorted and pre -normalized data. For these I used the Wisconsin breast cancer dataset, sorted it into training and test sets with the 'input' values to the Neural Network as 'X' values, and the expected 'output' (a 0 if benign and a 1 if malignant) as the 'Y' values."
      ]
    },
    {
      "cell_type": "code",
      "metadata": {
        "id": "CRxLfQCHs_Es",
        "colab_type": "code",
        "colab": {
          "resources": {
            "http://localhost:8080/nbextensions/google.colab/files.js": {
              "data": "Ly8gQ29weXJpZ2h0IDIwMTcgR29vZ2xlIExMQwovLwovLyBMaWNlbnNlZCB1bmRlciB0aGUgQXBhY2hlIExpY2Vuc2UsIFZlcnNpb24gMi4wICh0aGUgIkxpY2Vuc2UiKTsKLy8geW91IG1heSBub3QgdXNlIHRoaXMgZmlsZSBleGNlcHQgaW4gY29tcGxpYW5jZSB3aXRoIHRoZSBMaWNlbnNlLgovLyBZb3UgbWF5IG9idGFpbiBhIGNvcHkgb2YgdGhlIExpY2Vuc2UgYXQKLy8KLy8gICAgICBodHRwOi8vd3d3LmFwYWNoZS5vcmcvbGljZW5zZXMvTElDRU5TRS0yLjAKLy8KLy8gVW5sZXNzIHJlcXVpcmVkIGJ5IGFwcGxpY2FibGUgbGF3IG9yIGFncmVlZCB0byBpbiB3cml0aW5nLCBzb2Z0d2FyZQovLyBkaXN0cmlidXRlZCB1bmRlciB0aGUgTGljZW5zZSBpcyBkaXN0cmlidXRlZCBvbiBhbiAiQVMgSVMiIEJBU0lTLAovLyBXSVRIT1VUIFdBUlJBTlRJRVMgT1IgQ09ORElUSU9OUyBPRiBBTlkgS0lORCwgZWl0aGVyIGV4cHJlc3Mgb3IgaW1wbGllZC4KLy8gU2VlIHRoZSBMaWNlbnNlIGZvciB0aGUgc3BlY2lmaWMgbGFuZ3VhZ2UgZ292ZXJuaW5nIHBlcm1pc3Npb25zIGFuZAovLyBsaW1pdGF0aW9ucyB1bmRlciB0aGUgTGljZW5zZS4KCi8qKgogKiBAZmlsZW92ZXJ2aWV3IEhlbHBlcnMgZm9yIGdvb2dsZS5jb2xhYiBQeXRob24gbW9kdWxlLgogKi8KKGZ1bmN0aW9uKHNjb3BlKSB7CmZ1bmN0aW9uIHNwYW4odGV4dCwgc3R5bGVBdHRyaWJ1dGVzID0ge30pIHsKICBjb25zdCBlbGVtZW50ID0gZG9jdW1lbnQuY3JlYXRlRWxlbWVudCgnc3BhbicpOwogIGVsZW1lbnQudGV4dENvbnRlbnQgPSB0ZXh0OwogIGZvciAoY29uc3Qga2V5IG9mIE9iamVjdC5rZXlzKHN0eWxlQXR0cmlidXRlcykpIHsKICAgIGVsZW1lbnQuc3R5bGVba2V5XSA9IHN0eWxlQXR0cmlidXRlc1trZXldOwogIH0KICByZXR1cm4gZWxlbWVudDsKfQoKLy8gTWF4IG51bWJlciBvZiBieXRlcyB3aGljaCB3aWxsIGJlIHVwbG9hZGVkIGF0IGEgdGltZS4KY29uc3QgTUFYX1BBWUxPQURfU0laRSA9IDEwMCAqIDEwMjQ7Ci8vIE1heCBhbW91bnQgb2YgdGltZSB0byBibG9jayB3YWl0aW5nIGZvciB0aGUgdXNlci4KY29uc3QgRklMRV9DSEFOR0VfVElNRU9VVF9NUyA9IDMwICogMTAwMDsKCmZ1bmN0aW9uIF91cGxvYWRGaWxlcyhpbnB1dElkLCBvdXRwdXRJZCkgewogIGNvbnN0IHN0ZXBzID0gdXBsb2FkRmlsZXNTdGVwKGlucHV0SWQsIG91dHB1dElkKTsKICBjb25zdCBvdXRwdXRFbGVtZW50ID0gZG9jdW1lbnQuZ2V0RWxlbWVudEJ5SWQob3V0cHV0SWQpOwogIC8vIENhY2hlIHN0ZXBzIG9uIHRoZSBvdXRwdXRFbGVtZW50IHRvIG1ha2UgaXQgYXZhaWxhYmxlIGZvciB0aGUgbmV4dCBjYWxsCiAgLy8gdG8gdXBsb2FkRmlsZXNDb250aW51ZSBmcm9tIFB5dGhvbi4KICBvdXRwdXRFbGVtZW50LnN0ZXBzID0gc3RlcHM7CgogIHJldHVybiBfdXBsb2FkRmlsZXNDb250aW51ZShvdXRwdXRJZCk7Cn0KCi8vIFRoaXMgaXMgcm91Z2hseSBhbiBhc3luYyBnZW5lcmF0b3IgKG5vdCBzdXBwb3J0ZWQgaW4gdGhlIGJyb3dzZXIgeWV0KSwKLy8gd2hlcmUgdGhlcmUgYXJlIG11bHRpcGxlIGFzeW5jaHJvbm91cyBzdGVwcyBhbmQgdGhlIFB5dGhvbiBzaWRlIGlzIGdvaW5nCi8vIHRvIHBvbGwgZm9yIGNvbXBsZXRpb24gb2YgZWFjaCBzdGVwLgovLyBUaGlzIHVzZXMgYSBQcm9taXNlIHRvIGJsb2NrIHRoZSBweXRob24gc2lkZSBvbiBjb21wbGV0aW9uIG9mIGVhY2ggc3RlcCwKLy8gdGhlbiBwYXNzZXMgdGhlIHJlc3VsdCBvZiB0aGUgcHJldmlvdXMgc3RlcCBhcyB0aGUgaW5wdXQgdG8gdGhlIG5leHQgc3RlcC4KZnVuY3Rpb24gX3VwbG9hZEZpbGVzQ29udGludWUob3V0cHV0SWQpIHsKICBjb25zdCBvdXRwdXRFbGVtZW50ID0gZG9jdW1lbnQuZ2V0RWxlbWVudEJ5SWQob3V0cHV0SWQpOwogIGNvbnN0IHN0ZXBzID0gb3V0cHV0RWxlbWVudC5zdGVwczsKCiAgY29uc3QgbmV4dCA9IHN0ZXBzLm5leHQob3V0cHV0RWxlbWVudC5sYXN0UHJvbWlzZVZhbHVlKTsKICByZXR1cm4gUHJvbWlzZS5yZXNvbHZlKG5leHQudmFsdWUucHJvbWlzZSkudGhlbigodmFsdWUpID0+IHsKICAgIC8vIENhY2hlIHRoZSBsYXN0IHByb21pc2UgdmFsdWUgdG8gbWFrZSBpdCBhdmFpbGFibGUgdG8gdGhlIG5leHQKICAgIC8vIHN0ZXAgb2YgdGhlIGdlbmVyYXRvci4KICAgIG91dHB1dEVsZW1lbnQubGFzdFByb21pc2VWYWx1ZSA9IHZhbHVlOwogICAgcmV0dXJuIG5leHQudmFsdWUucmVzcG9uc2U7CiAgfSk7Cn0KCi8qKgogKiBHZW5lcmF0b3IgZnVuY3Rpb24gd2hpY2ggaXMgY2FsbGVkIGJldHdlZW4gZWFjaCBhc3luYyBzdGVwIG9mIHRoZSB1cGxvYWQKICogcHJvY2Vzcy4KICogQHBhcmFtIHtzdHJpbmd9IGlucHV0SWQgRWxlbWVudCBJRCBvZiB0aGUgaW5wdXQgZmlsZSBwaWNrZXIgZWxlbWVudC4KICogQHBhcmFtIHtzdHJpbmd9IG91dHB1dElkIEVsZW1lbnQgSUQgb2YgdGhlIG91dHB1dCBkaXNwbGF5LgogKiBAcmV0dXJuIHshSXRlcmFibGU8IU9iamVjdD59IEl0ZXJhYmxlIG9mIG5leHQgc3RlcHMuCiAqLwpmdW5jdGlvbiogdXBsb2FkRmlsZXNTdGVwKGlucHV0SWQsIG91dHB1dElkKSB7CiAgY29uc3QgaW5wdXRFbGVtZW50ID0gZG9jdW1lbnQuZ2V0RWxlbWVudEJ5SWQoaW5wdXRJZCk7CiAgaW5wdXRFbGVtZW50LmRpc2FibGVkID0gZmFsc2U7CgogIGNvbnN0IG91dHB1dEVsZW1lbnQgPSBkb2N1bWVudC5nZXRFbGVtZW50QnlJZChvdXRwdXRJZCk7CiAgb3V0cHV0RWxlbWVudC5pbm5lckhUTUwgPSAnJzsKCiAgY29uc3QgcGlja2VkUHJvbWlzZSA9IG5ldyBQcm9taXNlKChyZXNvbHZlKSA9PiB7CiAgICBpbnB1dEVsZW1lbnQuYWRkRXZlbnRMaXN0ZW5lcignY2hhbmdlJywgKGUpID0+IHsKICAgICAgcmVzb2x2ZShlLnRhcmdldC5maWxlcyk7CiAgICB9KTsKICB9KTsKCiAgY29uc3QgY2FuY2VsID0gZG9jdW1lbnQuY3JlYXRlRWxlbWVudCgnYnV0dG9uJyk7CiAgaW5wdXRFbGVtZW50LnBhcmVudEVsZW1lbnQuYXBwZW5kQ2hpbGQoY2FuY2VsKTsKICBjYW5jZWwudGV4dENvbnRlbnQgPSAnQ2FuY2VsIHVwbG9hZCc7CiAgY29uc3QgY2FuY2VsUHJvbWlzZSA9IG5ldyBQcm9taXNlKChyZXNvbHZlKSA9PiB7CiAgICBjYW5jZWwub25jbGljayA9ICgpID0+IHsKICAgICAgcmVzb2x2ZShudWxsKTsKICAgIH07CiAgfSk7CgogIC8vIENhbmNlbCB1cGxvYWQgaWYgdXNlciBoYXNuJ3QgcGlja2VkIGFueXRoaW5nIGluIHRpbWVvdXQuCiAgY29uc3QgdGltZW91dFByb21pc2UgPSBuZXcgUHJvbWlzZSgocmVzb2x2ZSkgPT4gewogICAgc2V0VGltZW91dCgoKSA9PiB7CiAgICAgIHJlc29sdmUobnVsbCk7CiAgICB9LCBGSUxFX0NIQU5HRV9USU1FT1VUX01TKTsKICB9KTsKCiAgLy8gV2FpdCBmb3IgdGhlIHVzZXIgdG8gcGljayB0aGUgZmlsZXMuCiAgY29uc3QgZmlsZXMgPSB5aWVsZCB7CiAgICBwcm9taXNlOiBQcm9taXNlLnJhY2UoW3BpY2tlZFByb21pc2UsIHRpbWVvdXRQcm9taXNlLCBjYW5jZWxQcm9taXNlXSksCiAgICByZXNwb25zZTogewogICAgICBhY3Rpb246ICdzdGFydGluZycsCiAgICB9CiAgfTsKCiAgaWYgKCFmaWxlcykgewogICAgcmV0dXJuIHsKICAgICAgcmVzcG9uc2U6IHsKICAgICAgICBhY3Rpb246ICdjb21wbGV0ZScsCiAgICAgIH0KICAgIH07CiAgfQoKICBjYW5jZWwucmVtb3ZlKCk7CgogIC8vIERpc2FibGUgdGhlIGlucHV0IGVsZW1lbnQgc2luY2UgZnVydGhlciBwaWNrcyBhcmUgbm90IGFsbG93ZWQuCiAgaW5wdXRFbGVtZW50LmRpc2FibGVkID0gdHJ1ZTsKCiAgZm9yIChjb25zdCBmaWxlIG9mIGZpbGVzKSB7CiAgICBjb25zdCBsaSA9IGRvY3VtZW50LmNyZWF0ZUVsZW1lbnQoJ2xpJyk7CiAgICBsaS5hcHBlbmQoc3BhbihmaWxlLm5hbWUsIHtmb250V2VpZ2h0OiAnYm9sZCd9KSk7CiAgICBsaS5hcHBlbmQoc3BhbigKICAgICAgICBgKCR7ZmlsZS50eXBlIHx8ICduL2EnfSkgLSAke2ZpbGUuc2l6ZX0gYnl0ZXMsIGAgKwogICAgICAgIGBsYXN0IG1vZGlmaWVkOiAkewogICAgICAgICAgICBmaWxlLmxhc3RNb2RpZmllZERhdGUgPyBmaWxlLmxhc3RNb2RpZmllZERhdGUudG9Mb2NhbGVEYXRlU3RyaW5nKCkgOgogICAgICAgICAgICAgICAgICAgICAgICAgICAgICAgICAgICAnbi9hJ30gLSBgKSk7CiAgICBjb25zdCBwZXJjZW50ID0gc3BhbignMCUgZG9uZScpOwogICAgbGkuYXBwZW5kQ2hpbGQocGVyY2VudCk7CgogICAgb3V0cHV0RWxlbWVudC5hcHBlbmRDaGlsZChsaSk7CgogICAgY29uc3QgZmlsZURhdGFQcm9taXNlID0gbmV3IFByb21pc2UoKHJlc29sdmUpID0+IHsKICAgICAgY29uc3QgcmVhZGVyID0gbmV3IEZpbGVSZWFkZXIoKTsKICAgICAgcmVhZGVyLm9ubG9hZCA9IChlKSA9PiB7CiAgICAgICAgcmVzb2x2ZShlLnRhcmdldC5yZXN1bHQpOwogICAgICB9OwogICAgICByZWFkZXIucmVhZEFzQXJyYXlCdWZmZXIoZmlsZSk7CiAgICB9KTsKICAgIC8vIFdhaXQgZm9yIHRoZSBkYXRhIHRvIGJlIHJlYWR5LgogICAgbGV0IGZpbGVEYXRhID0geWllbGQgewogICAgICBwcm9taXNlOiBmaWxlRGF0YVByb21pc2UsCiAgICAgIHJlc3BvbnNlOiB7CiAgICAgICAgYWN0aW9uOiAnY29udGludWUnLAogICAgICB9CiAgICB9OwoKICAgIC8vIFVzZSBhIGNodW5rZWQgc2VuZGluZyB0byBhdm9pZCBtZXNzYWdlIHNpemUgbGltaXRzLiBTZWUgYi82MjExNTY2MC4KICAgIGxldCBwb3NpdGlvbiA9IDA7CiAgICB3aGlsZSAocG9zaXRpb24gPCBmaWxlRGF0YS5ieXRlTGVuZ3RoKSB7CiAgICAgIGNvbnN0IGxlbmd0aCA9IE1hdGgubWluKGZpbGVEYXRhLmJ5dGVMZW5ndGggLSBwb3NpdGlvbiwgTUFYX1BBWUxPQURfU0laRSk7CiAgICAgIGNvbnN0IGNodW5rID0gbmV3IFVpbnQ4QXJyYXkoZmlsZURhdGEsIHBvc2l0aW9uLCBsZW5ndGgpOwogICAgICBwb3NpdGlvbiArPSBsZW5ndGg7CgogICAgICBjb25zdCBiYXNlNjQgPSBidG9hKFN0cmluZy5mcm9tQ2hhckNvZGUuYXBwbHkobnVsbCwgY2h1bmspKTsKICAgICAgeWllbGQgewogICAgICAgIHJlc3BvbnNlOiB7CiAgICAgICAgICBhY3Rpb246ICdhcHBlbmQnLAogICAgICAgICAgZmlsZTogZmlsZS5uYW1lLAogICAgICAgICAgZGF0YTogYmFzZTY0LAogICAgICAgIH0sCiAgICAgIH07CiAgICAgIHBlcmNlbnQudGV4dENvbnRlbnQgPQogICAgICAgICAgYCR7TWF0aC5yb3VuZCgocG9zaXRpb24gLyBmaWxlRGF0YS5ieXRlTGVuZ3RoKSAqIDEwMCl9JSBkb25lYDsKICAgIH0KICB9CgogIC8vIEFsbCBkb25lLgogIHlpZWxkIHsKICAgIHJlc3BvbnNlOiB7CiAgICAgIGFjdGlvbjogJ2NvbXBsZXRlJywKICAgIH0KICB9Owp9CgpzY29wZS5nb29nbGUgPSBzY29wZS5nb29nbGUgfHwge307CnNjb3BlLmdvb2dsZS5jb2xhYiA9IHNjb3BlLmdvb2dsZS5jb2xhYiB8fCB7fTsKc2NvcGUuZ29vZ2xlLmNvbGFiLl9maWxlcyA9IHsKICBfdXBsb2FkRmlsZXMsCiAgX3VwbG9hZEZpbGVzQ29udGludWUsCn07Cn0pKHNlbGYpOwo=",
              "ok": true,
              "headers": [
                [
                  "content-type",
                  "application/javascript"
                ]
              ],
              "status": 200,
              "status_text": ""
            }
          },
          "base_uri": "https://localhost:8080/",
          "height": 176
        },
        "outputId": "c6fa8146-86fc-40b2-bd8c-6fb7ed28c588"
      },
      "source": [
        "import pandas as pd\n",
        "\n",
        "from google.colab import files\n",
        "file = files.upload()\n",
        "X_train = pd.read_csv(\"xtrain.csv\", header=None)\n",
        "Y_train = pd.read_csv(\"ytrain.csv\", header=None)\n",
        "X_test = pd.read_csv(\"xtest.csv\", header=None)\n",
        "Y_test =pd.read_csv(\"ytest.csv\", header=None)"
      ],
      "execution_count": 6,
      "outputs": [
        {
          "output_type": "display_data",
          "data": {
            "text/html": [
              "\n",
              "     <input type=\"file\" id=\"files-f753a23d-c295-48f0-975f-fc34b602b6cc\" name=\"files[]\" multiple disabled />\n",
              "     <output id=\"result-f753a23d-c295-48f0-975f-fc34b602b6cc\">\n",
              "      Upload widget is only available when the cell has been executed in the\n",
              "      current browser session. Please rerun this cell to enable.\n",
              "      </output>\n",
              "      <script src=\"/nbextensions/google.colab/files.js\"></script> "
            ],
            "text/plain": [
              "<IPython.core.display.HTML object>"
            ]
          },
          "metadata": {
            "tags": []
          }
        },
        {
          "output_type": "stream",
          "text": [
            "Saving xtest.csv to xtest (1).csv\n",
            "Saving xtrain.csv to xtrain (1).csv\n",
            "Saving ytest.csv to ytest (1).csv\n",
            "Saving ytrain.csv to ytrain (1).csv\n"
          ],
          "name": "stdout"
        }
      ]
    },
    {
      "cell_type": "markdown",
      "metadata": {
        "id": "asQU_Rm2uelQ",
        "colab_type": "text"
      },
      "source": [
        "Now I'm going to use Keras to define a Neural network that will be trained off of this data. This Neural Network can then be used to predict future values for breast cancer presence."
      ]
    },
    {
      "cell_type": "code",
      "metadata": {
        "id": "4C8sYNv_u09C",
        "colab_type": "code",
        "colab": {
          "base_uri": "https://localhost:8080/",
          "height": 85
        },
        "outputId": "b6784513-57ab-44d1-9edb-f2dcb49372ee"
      },
      "source": [
        "from keras.models import Sequential\n",
        "from keras.layers import Dense\n",
        "\n",
        "classifier = Sequential() # Initialising the ANN\n",
        "\n",
        "classifier.add(Dense(units = 16, activation = 'relu', input_dim = 30))\n",
        "classifier.add(Dense(units = 8, activation = 'relu'))\n",
        "classifier.add(Dense(units = 6, activation = 'relu'))\n",
        "classifier.add(Dense(units = 1, activation = 'sigmoid'))"
      ],
      "execution_count": 7,
      "outputs": [
        {
          "output_type": "stream",
          "text": [
            "WARNING:tensorflow:From /usr/local/lib/python3.6/dist-packages/tensorflow/python/framework/op_def_library.py:263: colocate_with (from tensorflow.python.framework.ops) is deprecated and will be removed in a future version.\n",
            "Instructions for updating:\n",
            "Colocations handled automatically by placer.\n"
          ],
          "name": "stdout"
        },
        {
          "output_type": "stream",
          "text": [
            "Using TensorFlow backend.\n"
          ],
          "name": "stderr"
        }
      ]
    },
    {
      "cell_type": "markdown",
      "metadata": {
        "id": "jGPlpEIovvLZ",
        "colab_type": "text"
      },
      "source": [
        "Once the Neural Network is defined, I now have to specify the optimizer and loss function"
      ]
    },
    {
      "cell_type": "code",
      "metadata": {
        "id": "x9Cs4KaxwBIN",
        "colab_type": "code",
        "colab": {}
      },
      "source": [
        "classifier.compile(optimizer = 'rmsprop', loss = 'binary_crossentropy')"
      ],
      "execution_count": 0,
      "outputs": []
    },
    {
      "cell_type": "markdown",
      "metadata": {
        "id": "mEd1bdVcwTkt",
        "colab_type": "text"
      },
      "source": [
        "You now train the neural network using Classifier.fit, passing it the training data -- i.e. for this set of X, this is what the Y should look like. The NN will then spot the patterns in the data, and build a neural network that could replicate that."
      ]
    },
    {
      "cell_type": "code",
      "metadata": {
        "id": "MOhzHjmKwusV",
        "colab_type": "code",
        "colab": {
          "base_uri": "https://localhost:8080/",
          "height": 3485
        },
        "outputId": "7ad013d6-9f7e-43d3-a7b2-9f1078a96368"
      },
      "source": [
        "classifier.fit(X_train, Y_train, batch_size = 1, epochs = 100)"
      ],
      "execution_count": 10,
      "outputs": [
        {
          "output_type": "stream",
          "text": [
            "WARNING:tensorflow:From /usr/local/lib/python3.6/dist-packages/tensorflow/python/ops/math_ops.py:3066: to_int32 (from tensorflow.python.ops.math_ops) is deprecated and will be removed in a future version.\n",
            "Instructions for updating:\n",
            "Use tf.cast instead.\n",
            "Epoch 1/100\n",
            "455/455 [==============================] - 3s 7ms/step - loss: 0.3983\n",
            "Epoch 2/100\n",
            "455/455 [==============================] - 1s 3ms/step - loss: 0.2947\n",
            "Epoch 3/100\n",
            "455/455 [==============================] - 1s 3ms/step - loss: 0.2451\n",
            "Epoch 4/100\n",
            "455/455 [==============================] - 1s 3ms/step - loss: 0.2075\n",
            "Epoch 5/100\n",
            "455/455 [==============================] - 1s 3ms/step - loss: 0.2034\n",
            "Epoch 6/100\n",
            "455/455 [==============================] - 1s 3ms/step - loss: 0.1746\n",
            "Epoch 7/100\n",
            "455/455 [==============================] - 1s 3ms/step - loss: 0.1520\n",
            "Epoch 8/100\n",
            "455/455 [==============================] - 1s 3ms/step - loss: 0.1496\n",
            "Epoch 9/100\n",
            "455/455 [==============================] - 1s 3ms/step - loss: 0.1337\n",
            "Epoch 10/100\n",
            "455/455 [==============================] - 1s 3ms/step - loss: 0.1210\n",
            "Epoch 11/100\n",
            "455/455 [==============================] - 1s 3ms/step - loss: 0.1135\n",
            "Epoch 12/100\n",
            "455/455 [==============================] - 1s 3ms/step - loss: 0.1054\n",
            "Epoch 13/100\n",
            "455/455 [==============================] - 1s 3ms/step - loss: 0.0977\n",
            "Epoch 14/100\n",
            "455/455 [==============================] - 1s 3ms/step - loss: 0.1030\n",
            "Epoch 15/100\n",
            "455/455 [==============================] - 1s 3ms/step - loss: 0.0888\n",
            "Epoch 16/100\n",
            "455/455 [==============================] - 1s 3ms/step - loss: 0.1016\n",
            "Epoch 17/100\n",
            "455/455 [==============================] - 1s 3ms/step - loss: 0.0976\n",
            "Epoch 18/100\n",
            "455/455 [==============================] - 1s 3ms/step - loss: 0.0825\n",
            "Epoch 19/100\n",
            "455/455 [==============================] - 1s 3ms/step - loss: 0.0877\n",
            "Epoch 20/100\n",
            "455/455 [==============================] - 1s 3ms/step - loss: 0.0929\n",
            "Epoch 21/100\n",
            "455/455 [==============================] - 1s 3ms/step - loss: 0.0794\n",
            "Epoch 22/100\n",
            "455/455 [==============================] - 1s 3ms/step - loss: 0.0987\n",
            "Epoch 23/100\n",
            "455/455 [==============================] - 1s 3ms/step - loss: 0.0844\n",
            "Epoch 24/100\n",
            "455/455 [==============================] - 1s 3ms/step - loss: 0.0829\n",
            "Epoch 25/100\n",
            "455/455 [==============================] - 1s 3ms/step - loss: 0.0805\n",
            "Epoch 26/100\n",
            "455/455 [==============================] - 1s 3ms/step - loss: 0.0706\n",
            "Epoch 27/100\n",
            "455/455 [==============================] - 1s 3ms/step - loss: 0.0731\n",
            "Epoch 28/100\n",
            "455/455 [==============================] - 1s 3ms/step - loss: 0.0817\n",
            "Epoch 29/100\n",
            "455/455 [==============================] - 1s 3ms/step - loss: 0.0817\n",
            "Epoch 30/100\n",
            "455/455 [==============================] - 1s 3ms/step - loss: 0.0862\n",
            "Epoch 31/100\n",
            "455/455 [==============================] - 1s 3ms/step - loss: 0.0598\n",
            "Epoch 32/100\n",
            "455/455 [==============================] - 1s 3ms/step - loss: 0.0819\n",
            "Epoch 33/100\n",
            "455/455 [==============================] - 1s 3ms/step - loss: 0.0815\n",
            "Epoch 34/100\n",
            "455/455 [==============================] - 2s 3ms/step - loss: 0.0764\n",
            "Epoch 35/100\n",
            "455/455 [==============================] - 2s 3ms/step - loss: 0.0618\n",
            "Epoch 36/100\n",
            "455/455 [==============================] - 2s 3ms/step - loss: 0.0801\n",
            "Epoch 37/100\n",
            "455/455 [==============================] - 1s 3ms/step - loss: 0.0611\n",
            "Epoch 38/100\n",
            "455/455 [==============================] - 2s 3ms/step - loss: 0.0719\n",
            "Epoch 39/100\n",
            "455/455 [==============================] - 1s 3ms/step - loss: 0.0595\n",
            "Epoch 40/100\n",
            "455/455 [==============================] - 1s 3ms/step - loss: 0.0777\n",
            "Epoch 41/100\n",
            "455/455 [==============================] - 1s 3ms/step - loss: 0.0662\n",
            "Epoch 42/100\n",
            "455/455 [==============================] - 1s 3ms/step - loss: 0.0589\n",
            "Epoch 43/100\n",
            "455/455 [==============================] - 1s 3ms/step - loss: 0.0636\n",
            "Epoch 44/100\n",
            "455/455 [==============================] - 1s 3ms/step - loss: 0.0773\n",
            "Epoch 45/100\n",
            "455/455 [==============================] - 1s 3ms/step - loss: 0.0640\n",
            "Epoch 46/100\n",
            "455/455 [==============================] - 1s 3ms/step - loss: 0.0691\n",
            "Epoch 47/100\n",
            "455/455 [==============================] - 1s 3ms/step - loss: 0.0568\n",
            "Epoch 48/100\n",
            "455/455 [==============================] - 1s 3ms/step - loss: 0.0515\n",
            "Epoch 49/100\n",
            "455/455 [==============================] - 1s 3ms/step - loss: 0.0407\n",
            "Epoch 50/100\n",
            "455/455 [==============================] - 1s 3ms/step - loss: 0.0627\n",
            "Epoch 51/100\n",
            "455/455 [==============================] - 1s 3ms/step - loss: 0.0519\n",
            "Epoch 52/100\n",
            "455/455 [==============================] - 1s 3ms/step - loss: 0.0563\n",
            "Epoch 53/100\n",
            "455/455 [==============================] - 1s 3ms/step - loss: 0.0552\n",
            "Epoch 54/100\n",
            "455/455 [==============================] - 1s 3ms/step - loss: 0.0654\n",
            "Epoch 55/100\n",
            "455/455 [==============================] - 1s 3ms/step - loss: 0.0645\n",
            "Epoch 56/100\n",
            "455/455 [==============================] - 1s 3ms/step - loss: 0.0483\n",
            "Epoch 57/100\n",
            "455/455 [==============================] - 1s 3ms/step - loss: 0.0608\n",
            "Epoch 58/100\n",
            "455/455 [==============================] - 1s 3ms/step - loss: 0.0385\n",
            "Epoch 59/100\n",
            "455/455 [==============================] - 1s 3ms/step - loss: 0.0502\n",
            "Epoch 60/100\n",
            "455/455 [==============================] - 1s 3ms/step - loss: 0.0449\n",
            "Epoch 61/100\n",
            "455/455 [==============================] - 1s 3ms/step - loss: 0.0441\n",
            "Epoch 62/100\n",
            "455/455 [==============================] - 1s 3ms/step - loss: 0.0492\n",
            "Epoch 63/100\n",
            "455/455 [==============================] - 1s 3ms/step - loss: 0.0243\n",
            "Epoch 64/100\n",
            "455/455 [==============================] - 1s 3ms/step - loss: 0.0422\n",
            "Epoch 65/100\n",
            "455/455 [==============================] - 1s 3ms/step - loss: 0.0487\n",
            "Epoch 66/100\n",
            "455/455 [==============================] - 1s 3ms/step - loss: 0.0398\n",
            "Epoch 67/100\n",
            "455/455 [==============================] - 1s 3ms/step - loss: 0.0388\n",
            "Epoch 68/100\n",
            "455/455 [==============================] - 1s 3ms/step - loss: 0.0273\n",
            "Epoch 69/100\n",
            "455/455 [==============================] - 1s 3ms/step - loss: 0.0416\n",
            "Epoch 70/100\n",
            "455/455 [==============================] - 1s 3ms/step - loss: 0.0383\n",
            "Epoch 71/100\n",
            "455/455 [==============================] - 1s 3ms/step - loss: 0.0295\n",
            "Epoch 72/100\n",
            "455/455 [==============================] - 1s 3ms/step - loss: 0.0449\n",
            "Epoch 73/100\n",
            "455/455 [==============================] - 1s 3ms/step - loss: 0.0280\n",
            "Epoch 74/100\n",
            "455/455 [==============================] - 1s 3ms/step - loss: 0.0333\n",
            "Epoch 75/100\n",
            "455/455 [==============================] - 1s 3ms/step - loss: 0.0350\n",
            "Epoch 76/100\n",
            "455/455 [==============================] - 1s 3ms/step - loss: 0.0272\n",
            "Epoch 77/100\n",
            "455/455 [==============================] - 1s 3ms/step - loss: 0.0222\n",
            "Epoch 78/100\n",
            "455/455 [==============================] - 1s 3ms/step - loss: 0.0324\n",
            "Epoch 79/100\n",
            "455/455 [==============================] - 1s 3ms/step - loss: 0.0277\n",
            "Epoch 80/100\n",
            "455/455 [==============================] - 1s 3ms/step - loss: 0.0327\n",
            "Epoch 81/100\n",
            "455/455 [==============================] - 1s 3ms/step - loss: 0.0364\n",
            "Epoch 82/100\n",
            "455/455 [==============================] - 1s 3ms/step - loss: 0.0247\n",
            "Epoch 83/100\n",
            "455/455 [==============================] - 1s 3ms/step - loss: 0.0218\n",
            "Epoch 84/100\n",
            "455/455 [==============================] - 1s 3ms/step - loss: 0.0326\n",
            "Epoch 85/100\n",
            "455/455 [==============================] - 1s 3ms/step - loss: 0.0331\n",
            "Epoch 86/100\n",
            "455/455 [==============================] - 1s 3ms/step - loss: 0.0320\n",
            "Epoch 87/100\n",
            "455/455 [==============================] - 1s 3ms/step - loss: 0.0222\n",
            "Epoch 88/100\n",
            "455/455 [==============================] - 1s 3ms/step - loss: 0.0296\n",
            "Epoch 89/100\n",
            "455/455 [==============================] - 1s 3ms/step - loss: 0.0245\n",
            "Epoch 90/100\n",
            "455/455 [==============================] - 1s 3ms/step - loss: 0.0322\n",
            "Epoch 91/100\n",
            "455/455 [==============================] - 1s 3ms/step - loss: 0.0267\n",
            "Epoch 92/100\n",
            "455/455 [==============================] - 1s 3ms/step - loss: 0.0264\n",
            "Epoch 93/100\n",
            "455/455 [==============================] - 1s 3ms/step - loss: 0.0204\n",
            "Epoch 94/100\n",
            "455/455 [==============================] - 1s 3ms/step - loss: 0.0202\n",
            "Epoch 95/100\n",
            "455/455 [==============================] - 1s 3ms/step - loss: 0.0238\n",
            "Epoch 96/100\n",
            "455/455 [==============================] - 1s 3ms/step - loss: 0.0245\n",
            "Epoch 97/100\n",
            "455/455 [==============================] - 1s 3ms/step - loss: 0.0182\n",
            "Epoch 98/100\n",
            "455/455 [==============================] - 1s 3ms/step - loss: 0.0201\n",
            "Epoch 99/100\n",
            "455/455 [==============================] - 1s 3ms/step - loss: 0.0209\n",
            "Epoch 100/100\n",
            "455/455 [==============================] - 1s 3ms/step - loss: 0.0275\n"
          ],
          "name": "stdout"
        },
        {
          "output_type": "execute_result",
          "data": {
            "text/plain": [
              "<keras.callbacks.History at 0x7f1d75a896d8>"
            ]
          },
          "metadata": {
            "tags": []
          },
          "execution_count": 10
        }
      ]
    },
    {
      "cell_type": "markdown",
      "metadata": {
        "id": "aks2jabVw-Mb",
        "colab_type": "text"
      },
      "source": [
        "To predict new values, the Neural Network uses classifier.predict. I'm going to pass it the test values for X (which the Neural Network hasn't previously seen) and it will give me back a set of predictions. These predictions will be probabilities, so I will clean them up by saying that if they are greater then .5 I'll make them 1 else I'll make them 0."
      ]
    },
    {
      "cell_type": "code",
      "metadata": {
        "id": "ZwX8OZtrxhpn",
        "colab_type": "code",
        "colab": {}
      },
      "source": [
        "Y_pred = classifier.predict(X_test)\n",
        "Y_pred = [ 1 if y>=.999 else 0 for y in Y_pred ]"
      ],
      "execution_count": 0,
      "outputs": []
    },
    {
      "cell_type": "markdown",
      "metadata": {
        "id": "umbONoe6BFYS",
        "colab_type": "text"
      },
      "source": [
        "Now we can loop through the set of predicitions for the test set (called Y_pred) and the actual values for the test set (celled Y_test), and see how alike they are -- if they are the same, I'll increment 'correct', otherwise I'll increment 'wrong'.\n",
        "\n",
        "You'll see the result is 100% accurate, even though the neural network reported a lower accuracy then that. Why?"
      ]
    },
    {
      "cell_type": "code",
      "metadata": {
        "id": "Okn8G7BZCMmj",
        "colab_type": "code",
        "colab": {
          "base_uri": "https://localhost:8080/",
          "height": 68
        },
        "outputId": "37f42126-d980-431f-e8ec-f94da60755f8"
      },
      "source": [
        "total = 0\n",
        "correct = 0\n",
        "wrong = 0\n",
        "for i in range(len(Y_pred)):\n",
        "  total=total+1\n",
        "  if(Y_test.at[i,0] == Y_pred[i]):\n",
        "    correct=correct+1\n",
        "  else:\n",
        "    wrong=wrong+1\n",
        "    \n",
        "print(\"Total \" + str(total))\n",
        "print(\"Correct \" + str(correct))\n",
        "print(\"Wrong \" + str(wrong))\n"
      ],
      "execution_count": 69,
      "outputs": [
        {
          "output_type": "stream",
          "text": [
            "Total 114\n",
            "Correct 110\n",
            "Wrong 4\n"
          ],
          "name": "stdout"
        }
      ]
    }
  ]
}